{
 "cells": [
  {
   "cell_type": "code",
   "execution_count": 261,
   "metadata": {},
   "outputs": [],
   "source": [
    "import numpy as np\n",
    "import matplotlib.pyplot as plt\n",
    "import pandas as pd\n",
    "import torch\n",
    "import torch.optim as optim\n",
    "import torch.nn as nn\n",
    "import sys\n",
    "import torch.nn.functional as F\n",
    "\n",
    "np.random.seed(1)\n",
    "\n",
    "device = 'cpu'\n",
    "\n",
    "df = pd.read_csv('b_depressed.csv')"
   ]
  },
  {
   "cell_type": "code",
   "execution_count": 262,
   "metadata": {},
   "outputs": [],
   "source": [
    "Y = df['depressed']\n",
    "X = df.drop(columns=['depressed','no_lasting_investmen'], axis=1)"
   ]
  },
  {
   "cell_type": "code",
   "execution_count": 263,
   "metadata": {},
   "outputs": [],
   "source": [
    "from sklearn.model_selection import train_test_split\n",
    "\n",
    "X_train, X_valid, Y_train, Y_valid = train_test_split(X, Y, test_size=0.3, random_state=1)"
   ]
  },
  {
   "cell_type": "code",
   "execution_count": 264,
   "metadata": {},
   "outputs": [],
   "source": [
    "X_train_tensor = torch.from_numpy(X_train.values).type(torch.FloatTensor)\n",
    "Y_train_tensor = torch.from_numpy(Y_train.values).type(torch.FloatTensor)\n",
    "X_valid_tensor = torch.from_numpy(X_valid.values).type(torch.FloatTensor)\n",
    "Y_valid_tensor = torch.from_numpy(Y_valid.values).type(torch.FloatTensor)\n",
    "#X_train_tensor = X_train_tensor.unsqueeze(dim=0)\n",
    "Y_train_tensor = Y_train_tensor.unsqueeze(dim=1)\n",
    "# Y_train_tensor"
   ]
  },
  {
   "cell_type": "code",
   "execution_count": 265,
   "metadata": {},
   "outputs": [
    {
     "data": {
      "text/plain": [
       "(torch.Size([1000, 21]), torch.Size([1000, 1]))"
      ]
     },
     "execution_count": 265,
     "metadata": {},
     "output_type": "execute_result"
    }
   ],
   "source": [
    "X_train_tensor.shape, Y_train_tensor.shape"
   ]
  },
  {
   "cell_type": "code",
   "execution_count": 266,
   "metadata": {},
   "outputs": [],
   "source": [
    "class CustomModel(nn.Module):\n",
    "    def __init__(self):\n",
    "        super().__init__()\n",
    "        self.layer = nn.Sequential(\n",
    "            nn.Linear(21,20),\n",
    "            nn.Linear(20,8),\n",
    "            nn.Linear(8,1)\n",
    "        )\n",
    "    def forward(self, x):\n",
    "        x = self.layer(x)\n",
    "        return x"
   ]
  },
  {
   "cell_type": "code",
   "execution_count": 281,
   "metadata": {},
   "outputs": [
    {
     "name": "stdout",
     "output_type": "stream",
     "text": [
      "Epoch    0/3500 Cost: 618223.750000 Accuracy 65.40%\n",
      "Epoch   50/3500 Cost: 576936.437500 Accuracy 66.70%\n",
      "Epoch  100/3500 Cost: 543255.875000 Accuracy 68.00%\n",
      "Epoch  150/3500 Cost: 516026.625000 Accuracy 69.00%\n",
      "Epoch  200/3500 Cost: 492249.906250 Accuracy 69.80%\n",
      "Epoch  250/3500 Cost: 469790.437500 Accuracy 70.20%\n",
      "Epoch  300/3500 Cost: 447933.406250 Accuracy 70.50%\n",
      "Epoch  350/3500 Cost: 426550.093750 Accuracy 70.60%\n",
      "Epoch  400/3500 Cost: 405525.625000 Accuracy 70.80%\n",
      "Epoch  450/3500 Cost: 385007.156250 Accuracy 71.10%\n",
      "Epoch  500/3500 Cost: 365050.500000 Accuracy 71.30%\n",
      "Epoch  550/3500 Cost: 345576.875000 Accuracy 71.50%\n",
      "Epoch  600/3500 Cost: 326434.968750 Accuracy 71.60%\n",
      "Epoch  650/3500 Cost: 307626.500000 Accuracy 71.80%\n",
      "Epoch  700/3500 Cost: 289131.593750 Accuracy 72.00%\n",
      "Epoch  750/3500 Cost: 270834.343750 Accuracy 72.10%\n",
      "Epoch  800/3500 Cost: 252815.640625 Accuracy 72.00%\n",
      "Epoch  850/3500 Cost: 235340.546875 Accuracy 72.00%\n",
      "Epoch  900/3500 Cost: 218012.171875 Accuracy 72.00%\n",
      "Epoch  950/3500 Cost: 200919.812500 Accuracy 72.20%\n",
      "Epoch 1000/3500 Cost: 183981.921875 Accuracy 72.20%\n",
      "Epoch 1050/3500 Cost: 167296.843750 Accuracy 72.00%\n",
      "Epoch 1100/3500 Cost: 150981.328125 Accuracy 71.80%\n",
      "Epoch 1150/3500 Cost: 135025.296875 Accuracy 72.20%\n",
      "Epoch 1200/3500 Cost: 119233.218750 Accuracy 72.30%\n",
      "Epoch 1250/3500 Cost: 103892.312500 Accuracy 72.40%\n",
      "Epoch 1300/3500 Cost: 89361.953125 Accuracy 72.40%\n",
      "Epoch 1350/3500 Cost: 75685.140625 Accuracy 72.60%\n",
      "Epoch 1400/3500 Cost: 62561.214844 Accuracy 73.10%\n",
      "Epoch 1450/3500 Cost: 49900.351562 Accuracy 73.50%\n",
      "Epoch 1500/3500 Cost: 37838.800781 Accuracy 73.30%\n",
      "Epoch 1550/3500 Cost: 26884.648438 Accuracy 73.10%\n",
      "Epoch 1600/3500 Cost: 17001.539062 Accuracy 73.80%\n",
      "Epoch 1650/3500 Cost: 7482.852539 Accuracy 73.90%\n",
      "Epoch 1700/3500 Cost: 1163.926147 Accuracy 68.90%\n",
      "Epoch 1750/3500 Cost: 1306.371338 Accuracy 18.60%\n",
      "Epoch 1800/3500 Cost: 1072.239624 Accuracy 82.60%\n",
      "Epoch 1850/3500 Cost: 133.724319 Accuracy 82.00%\n",
      "Epoch 1900/3500 Cost: 95.950050 Accuracy 80.20%\n",
      "Epoch 1950/3500 Cost: 124.061752 Accuracy 82.10%\n",
      "Epoch 2000/3500 Cost: 271.725494 Accuracy 82.60%\n",
      "Epoch 2050/3500 Cost: 48.519398 Accuracy 65.40%\n",
      "Epoch 2100/3500 Cost: 936.230896 Accuracy 26.10%\n",
      "Epoch 2150/3500 Cost: 264.636200 Accuracy 82.60%\n",
      "Epoch 2200/3500 Cost: 62.714420 Accuracy 34.10%\n",
      "Epoch 2250/3500 Cost: 277.015778 Accuracy 82.60%\n",
      "Epoch 2300/3500 Cost: 494.734009 Accuracy 82.60%\n",
      "Epoch 2350/3500 Cost: 526.888611 Accuracy 82.60%\n",
      "Epoch 2400/3500 Cost: 388.837830 Accuracy 82.60%\n",
      "Epoch 2450/3500 Cost: 503.294250 Accuracy 82.60%\n",
      "Epoch 2500/3500 Cost: 687.129761 Accuracy 82.60%\n",
      "Epoch 2550/3500 Cost: 145.668091 Accuracy 82.60%\n",
      "Epoch 2600/3500 Cost: 95.251694 Accuracy 76.00%\n",
      "Epoch 2650/3500 Cost: 197.021683 Accuracy 82.60%\n",
      "Epoch 2700/3500 Cost: 121.689308 Accuracy 82.60%\n",
      "Epoch 2750/3500 Cost: 312.556885 Accuracy 82.60%\n",
      "Epoch 2800/3500 Cost: 426.573547 Accuracy 82.60%\n",
      "Epoch 2850/3500 Cost: 95.404350 Accuracy 82.60%\n",
      "Epoch 2900/3500 Cost: 429.756531 Accuracy 82.60%\n",
      "Epoch 2950/3500 Cost: 173.201187 Accuracy 82.60%\n",
      "Epoch 3000/3500 Cost: 96.574524 Accuracy 82.80%\n",
      "Epoch 3050/3500 Cost: 430.552948 Accuracy 82.50%\n",
      "Epoch 3100/3500 Cost: 466.890930 Accuracy 82.60%\n",
      "Epoch 3150/3500 Cost: 189.898346 Accuracy 35.10%\n",
      "Epoch 3200/3500 Cost: 39.107399 Accuracy 81.10%\n",
      "Epoch 3250/3500 Cost: 138.752197 Accuracy 82.40%\n",
      "Epoch 3300/3500 Cost: 126.713638 Accuracy 82.60%\n",
      "Epoch 3350/3500 Cost: 218.018936 Accuracy 82.60%\n",
      "Epoch 3400/3500 Cost: 76.169189 Accuracy 73.90%\n",
      "Epoch 3450/3500 Cost: 73.106071 Accuracy 78.90%\n",
      "Epoch 3500/3500 Cost: 333.458099 Accuracy 82.60%\n"
     ]
    }
   ],
   "source": [
    "model = CustomModel()\n",
    "# optimizer 설정\n",
    "optimizer = optim.Adam(model.parameters(), lr=0.00001)\n",
    "loss_func = torch.nn.BCEWithLogitsLoss()\n",
    "nb_epochs = 3500\n",
    "losses = []\n",
    "for epoch in range(nb_epochs + 1):\n",
    "\n",
    "    # H(x) 계산\n",
    "    hypothesis = model(X_train_tensor)\n",
    "\n",
    "    # cost 계산\n",
    "    cost = loss_func(hypothesis, Y_train_tensor)\n",
    "    losses.append(cost.item())\n",
    "    # for row in model.parameters():\n",
    "    #     print(row)\n",
    "\n",
    "    # cost로 H(x) 개선\n",
    "    optimizer.zero_grad()\n",
    "    cost.backward()\n",
    "    optimizer.step()\n",
    "\n",
    "    # 20번마다 로그 출력\n",
    "    if epoch % 50 == 0:\n",
    "        prediction = hypothesis >= torch.FloatTensor([0.5]) # 예측값이 0.5를 넘으면 True로 간주\n",
    "        correct_prediction = prediction.float() == Y_train_tensor # 실제값과 일치하는 경우만 True로 간주\n",
    "        accuracy = correct_prediction.sum().item() / len(correct_prediction) # 정확도를 계산\n",
    "        print('Epoch {:4d}/{} Cost: {:.6f} Accuracy {:2.2f}%'.format( # 각 에포크마다 정확도를 출력\n",
    "            epoch, nb_epochs, cost.item(), accuracy * 100,\n",
    "        ))"
   ]
  },
  {
   "cell_type": "code",
   "execution_count": 282,
   "metadata": {},
   "outputs": [
    {
     "name": "stdout",
     "output_type": "stream",
     "text": [
      "test loss : tensor(337.0468)\n"
     ]
    }
   ],
   "source": [
    "model.eval()\n",
    "outputs = None\n",
    "\n",
    "with torch.no_grad():\n",
    "    outputs = model(X_valid_tensor)\n",
    "    loss = loss_func(outputs, torch.Tensor(Y_valid_tensor).reshape(-1, 1))\n",
    "\n",
    "print(\"test loss :\", loss)"
   ]
  },
  {
   "cell_type": "code",
   "execution_count": null,
   "metadata": {},
   "outputs": [],
   "source": []
  }
 ],
 "metadata": {
  "kernelspec": {
   "display_name": "Python 3.9.7 ('base')",
   "language": "python",
   "name": "python3"
  },
  "language_info": {
   "codemirror_mode": {
    "name": "ipython",
    "version": 3
   },
   "file_extension": ".py",
   "mimetype": "text/x-python",
   "name": "python",
   "nbconvert_exporter": "python",
   "pygments_lexer": "ipython3",
   "version": "3.9.7"
  },
  "orig_nbformat": 4,
  "vscode": {
   "interpreter": {
    "hash": "0ed8b1f1204e3ec9fd00160a1836bd979d4552f7e99d1a18dc9610716eedd92b"
   }
  }
 },
 "nbformat": 4,
 "nbformat_minor": 2
}
